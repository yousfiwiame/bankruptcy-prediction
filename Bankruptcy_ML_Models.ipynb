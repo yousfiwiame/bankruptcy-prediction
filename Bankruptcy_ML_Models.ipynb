{
  "cells": [
    {
      "cell_type": "code",
      "execution_count": null,
      "metadata": {
        "id": "buPnjN6nuIr5"
      },
      "outputs": [],
      "source": [
        "import pandas as pd\n",
        "import numpy as np\n",
        "\n",
        "df = pd.read_csv('american_bankruptcy.csv')"
      ]
    },
    {
      "cell_type": "code",
      "execution_count": null,
      "metadata": {
        "id": "ISrLhLP1uGdo"
      },
      "outputs": [],
      "source": [
        "df = df.sort_values(by=['company_name', 'year'])\n",
        "df['bankrupt_next_year'] = df.groupby('company_name')['status_label'].shift(-1) == 'failed'\n",
        "df['bankrupt_next_year'] = df['bankrupt_next_year'].astype(int)"
      ]
    },
    {
      "cell_type": "code",
      "execution_count": null,
      "metadata": {
        "id": "gn9m_RimuwJa"
      },
      "outputs": [],
      "source": [
        "features = df.drop(columns=['company_name', 'status_label', 'year', 'bankrupt_next_year'])\n",
        "target = df['bankrupt_next_year']"
      ]
    },
    {
      "cell_type": "code",
      "execution_count": null,
      "metadata": {
        "id": "Xi9DlEg4vDvw"
      },
      "outputs": [],
      "source": [
        "from sklearn.model_selection import train_test_split\n",
        "X_train, X_test, y_train, y_test = train_test_split(\n",
        "    features, target, test_size=0.2, stratify=target, random_state=42\n",
        ")"
      ]
    },
    {
      "cell_type": "code",
      "execution_count": null,
      "metadata": {
        "id": "NBNdcXU5vJt7"
      },
      "outputs": [],
      "source": [
        "from sklearn.preprocessing import StandardScaler\n",
        "\n",
        "scaler = StandardScaler()\n",
        "X_train = scaler.fit_transform(X_train)\n",
        "X_test = scaler.transform(X_test)"
      ]
    },
    {
      "cell_type": "code",
      "execution_count": null,
      "metadata": {
        "id": "5bvvSj3yvbVA"
      },
      "outputs": [],
      "source": [
        "from sklearn.ensemble import RandomForestClassifier\n",
        "from sklearn.linear_model import LogisticRegression\n",
        "from sklearn.neural_network import MLPClassifier\n",
        "from xgboost import XGBClassifier\n",
        "from sklearn.metrics import classification_report, confusion_matrix, roc_auc_score, f1_score"
      ]
    },
    {
      "cell_type": "code",
      "execution_count": null,
      "metadata": {
        "colab": {
          "base_uri": "https://localhost:8080/"
        },
        "collapsed": true,
        "id": "WxNJnKf8oF9T",
        "outputId": "0d8143a9-0734-466c-d34b-e8e8ae597d30"
      },
      "outputs": [
        {
          "name": "stdout",
          "output_type": "stream",
          "text": [
            "\n",
            "--- Random Forest ---\n",
            "Classification Report:\n",
            "               precision    recall  f1-score   support\n",
            "\n",
            "           0       0.94      1.00      0.97     14815\n",
            "           1       0.95      0.04      0.08       922\n",
            "\n",
            "    accuracy                           0.94     15737\n",
            "   macro avg       0.95      0.52      0.53     15737\n",
            "weighted avg       0.94      0.94      0.92     15737\n",
            "\n",
            "Confusion Matrix:\n",
            " [[14813     2]\n",
            " [  882    40]]\n",
            "ROC AUC Score: 0.8686226292019507\n",
            "\n",
            "--- Logistic Regression ---\n",
            "Classification Report:\n",
            "               precision    recall  f1-score   support\n",
            "\n",
            "           0       0.97      0.31      0.47     14815\n",
            "           1       0.07      0.86      0.13       922\n",
            "\n",
            "    accuracy                           0.34     15737\n",
            "   macro avg       0.52      0.58      0.30     15737\n",
            "weighted avg       0.92      0.34      0.45     15737\n",
            "\n",
            "Confusion Matrix:\n",
            " [[ 4605 10210]\n",
            " [  131   791]]\n",
            "ROC AUC Score: 0.6550634982572481\n",
            "\n",
            "--- MLP ---\n"
          ]
        },
        {
          "name": "stderr",
          "output_type": "stream",
          "text": [
            "/usr/local/lib/python3.11/dist-packages/sklearn/neural_network/_multilayer_perceptron.py:691: ConvergenceWarning: Stochastic Optimizer: Maximum iterations (200) reached and the optimization hasn't converged yet.\n",
            "  warnings.warn(\n"
          ]
        },
        {
          "name": "stdout",
          "output_type": "stream",
          "text": [
            "Classification Report:\n",
            "               precision    recall  f1-score   support\n",
            "\n",
            "           0       0.95      1.00      0.97     14815\n",
            "           1       0.64      0.07      0.13       922\n",
            "\n",
            "    accuracy                           0.94     15737\n",
            "   macro avg       0.79      0.53      0.55     15737\n",
            "weighted avg       0.93      0.94      0.92     15737\n",
            "\n",
            "Confusion Matrix:\n",
            " [[14779    36]\n",
            " [  858    64]]\n",
            "ROC AUC Score: 0.7478185400122845\n",
            "\n",
            "--- XGBoost ---\n"
          ]
        },
        {
          "name": "stderr",
          "output_type": "stream",
          "text": [
            "/usr/local/lib/python3.11/dist-packages/xgboost/core.py:158: UserWarning: [21:22:52] WARNING: /workspace/src/learner.cc:740: \n",
            "Parameters: { \"use_label_encoder\" } are not used.\n",
            "\n",
            "  warnings.warn(smsg, UserWarning)\n"
          ]
        },
        {
          "name": "stdout",
          "output_type": "stream",
          "text": [
            "Classification Report:\n",
            "               precision    recall  f1-score   support\n",
            "\n",
            "           0       0.95      1.00      0.97     14815\n",
            "           1       0.65      0.08      0.15       922\n",
            "\n",
            "    accuracy                           0.94     15737\n",
            "   macro avg       0.80      0.54      0.56     15737\n",
            "weighted avg       0.93      0.94      0.92     15737\n",
            "\n",
            "Confusion Matrix:\n",
            " [[14774    41]\n",
            " [  846    76]]\n",
            "ROC AUC Score: 0.8243901099826273\n"
          ]
        }
      ],
      "source": [
        "models = {\n",
        "    \"Random Forest\": RandomForestClassifier(n_estimators=100, class_weight='balanced', random_state=42),\n",
        "    \"Logistic Regression\": LogisticRegression(class_weight='balanced', max_iter=1000),\n",
        "    \"MLP\": MLPClassifier(hidden_layer_sizes=(64, 32), max_iter=200, random_state=42),\n",
        "    \"XGBoost\": XGBClassifier(use_label_encoder=False, eval_metric='logloss', random_state=42)\n",
        "}\n",
        "\n",
        "results = {}\n",
        "\n",
        "for name, model in models.items():\n",
        "    print(f\"\\n--- {name} ---\")\n",
        "    model.fit(X_train, y_train)\n",
        "    y_pred = model.predict(X_test)\n",
        "    y_proba = model.predict_proba(X_test)[:, 1] if hasattr(model, \"predict_proba\") else y_pred\n",
        "\n",
        "    report = classification_report(y_test, y_pred, output_dict=True)\n",
        "    conf_matrix = confusion_matrix(y_test, y_pred)\n",
        "    roc_auc = roc_auc_score(y_test, y_proba)\n",
        "\n",
        "    results[name] = {\n",
        "        \"report\": report,\n",
        "        \"confusion_matrix\": conf_matrix,\n",
        "        \"roc_auc\": roc_auc\n",
        "    }\n",
        "\n",
        "    print(\"Classification Report:\\n\", classification_report(y_test, y_pred))\n",
        "    print(\"Confusion Matrix:\\n\", conf_matrix)\n",
        "    print(\"ROC AUC Score:\", roc_auc)"
      ]
    },
    {
      "cell_type": "markdown",
      "metadata": {
        "id": "EU6rSskczo1e"
      },
      "source": [
        "**En équilibrant la datset pour améliorer la performance des modèles**"
      ]
    },
    {
      "cell_type": "code",
      "execution_count": null,
      "metadata": {
        "id": "d_ouZ8j2ugy7"
      },
      "outputs": [],
      "source": [
        "#équilibrage du dataset en appliquant smote\n",
        "from imblearn.over_sampling import SMOTE\n",
        "\n",
        "smote = SMOTE(random_state=42)\n",
        "X_train, y_train = smote.fit_resample(X_train, y_train)"
      ]
    },
    {
      "cell_type": "code",
      "execution_count": null,
      "metadata": {
        "colab": {
          "base_uri": "https://localhost:8080/"
        },
        "collapsed": true,
        "id": "aRDyDYqsoa2I",
        "outputId": "d378e6f4-a6cc-4afb-cf8c-6daee26b6062"
      },
      "outputs": [
        {
          "name": "stdout",
          "output_type": "stream",
          "text": [
            "\n",
            "--- Random Forest ---\n",
            "Classification Report:\n",
            "               precision    recall  f1-score   support\n",
            "\n",
            "           0       0.96      0.96      0.96     14815\n",
            "           1       0.42      0.43      0.43       922\n",
            "\n",
            "    accuracy                           0.93     15737\n",
            "   macro avg       0.69      0.70      0.69     15737\n",
            "weighted avg       0.93      0.93      0.93     15737\n",
            "\n",
            "Confusion Matrix:\n",
            " [[14259   556]\n",
            " [  522   400]]\n",
            "ROC AUC Score: 0.8676942229653799\n",
            "\n",
            "--- Logistic Regression ---\n",
            "Classification Report:\n",
            "               precision    recall  f1-score   support\n",
            "\n",
            "           0       0.97      0.32      0.48     14815\n",
            "           1       0.07      0.84      0.13       922\n",
            "\n",
            "    accuracy                           0.35     15737\n",
            "   macro avg       0.52      0.58      0.31     15737\n",
            "weighted avg       0.92      0.35      0.46     15737\n",
            "\n",
            "Confusion Matrix:\n",
            " [[ 4705 10110]\n",
            " [  144   778]]\n",
            "ROC AUC Score: 0.6560633203581702\n",
            "\n",
            "--- MLP ---\n"
          ]
        },
        {
          "name": "stderr",
          "output_type": "stream",
          "text": [
            "/usr/local/lib/python3.11/dist-packages/sklearn/neural_network/_multilayer_perceptron.py:691: ConvergenceWarning: Stochastic Optimizer: Maximum iterations (200) reached and the optimization hasn't converged yet.\n",
            "  warnings.warn(\n"
          ]
        },
        {
          "name": "stdout",
          "output_type": "stream",
          "text": [
            "Classification Report:\n",
            "               precision    recall  f1-score   support\n",
            "\n",
            "           0       0.97      0.75      0.84     14815\n",
            "           1       0.13      0.61      0.21       922\n",
            "\n",
            "    accuracy                           0.74     15737\n",
            "   macro avg       0.55      0.68      0.53     15737\n",
            "weighted avg       0.92      0.74      0.81     15737\n",
            "\n",
            "Confusion Matrix:\n",
            " [[11072  3743]\n",
            " [  362   560]]\n",
            "ROC AUC Score: 0.7438035847762315\n",
            "\n",
            "--- XGBoost ---\n"
          ]
        },
        {
          "name": "stderr",
          "output_type": "stream",
          "text": [
            "/usr/local/lib/python3.11/dist-packages/xgboost/core.py:158: UserWarning: [21:27:19] WARNING: /workspace/src/learner.cc:740: \n",
            "Parameters: { \"use_label_encoder\" } are not used.\n",
            "\n",
            "  warnings.warn(smsg, UserWarning)\n"
          ]
        },
        {
          "name": "stdout",
          "output_type": "stream",
          "text": [
            "Classification Report:\n",
            "               precision    recall  f1-score   support\n",
            "\n",
            "           0       0.97      0.83      0.89     14815\n",
            "           1       0.18      0.61      0.28       922\n",
            "\n",
            "    accuracy                           0.81     15737\n",
            "   macro avg       0.57      0.72      0.58     15737\n",
            "weighted avg       0.92      0.81      0.86     15737\n",
            "\n",
            "Confusion Matrix:\n",
            " [[12235  2580]\n",
            " [  363   559]]\n",
            "ROC AUC Score: 0.8008298296488214\n"
          ]
        }
      ],
      "source": [
        "models = {\n",
        "    \"Random Forest\": RandomForestClassifier(n_estimators=100, class_weight='balanced', random_state=42),\n",
        "    \"Logistic Regression\": LogisticRegression(class_weight='balanced', max_iter=1000),\n",
        "    \"MLP\": MLPClassifier(hidden_layer_sizes=(64, 32), max_iter=200, random_state=42),\n",
        "    \"XGBoost\": XGBClassifier(use_label_encoder=False, eval_metric='logloss', random_state=42)\n",
        "}\n",
        "\n",
        "results = {}\n",
        "\n",
        "for name, model in models.items():\n",
        "    print(f\"\\n--- {name} ---\")\n",
        "    model.fit(X_train, y_train)\n",
        "    y_pred = model.predict(X_test)\n",
        "    y_proba = model.predict_proba(X_test)[:, 1] if hasattr(model, \"predict_proba\") else y_pred\n",
        "\n",
        "    report = classification_report(y_test, y_pred, output_dict=True)\n",
        "    conf_matrix = confusion_matrix(y_test, y_pred)\n",
        "    roc_auc = roc_auc_score(y_test, y_proba)\n",
        "\n",
        "    results[name] = {\n",
        "        \"report\": report,\n",
        "        \"confusion_matrix\": conf_matrix,\n",
        "        \"roc_auc\": roc_auc\n",
        "    }\n",
        "\n",
        "    print(\"Classification Report:\\n\", classification_report(y_test, y_pred))\n",
        "    print(\"Confusion Matrix:\\n\", conf_matrix)\n",
        "    print(\"ROC AUC Score:\", roc_auc)"
      ]
    },
    {
      "cell_type": "markdown",
      "metadata": {
        "id": "CQXf1Hd2x4kx"
      },
      "source": [
        "# **Optimizing the models**"
      ]
    },
    {
      "cell_type": "code",
      "execution_count": null,
      "metadata": {
        "id": "FJ2g4cJtwIUr"
      },
      "outputs": [],
      "source": [
        "from imblearn.pipeline import Pipeline as ImbPipeline\n",
        "from sklearn.model_selection import StratifiedKFold, cross_val_score,GridSearchCV"
      ]
    },
    {
      "cell_type": "code",
      "execution_count": null,
      "metadata": {
        "colab": {
          "base_uri": "https://localhost:8080/"
        },
        "collapsed": true,
        "id": "jRQvqGIysDd3",
        "outputId": "16e6ad46-d776-43e6-d90e-7945eb2e7f9a"
      },
      "outputs": [
        {
          "name": "stdout",
          "output_type": "stream",
          "text": [
            "\n",
            "--- Random Forest ---\n",
            "Classification Report:\n",
            "               precision    recall  f1-score   support\n",
            "\n",
            "           0       0.97      0.86      0.91     14815\n",
            "           1       0.21      0.60      0.31       922\n",
            "\n",
            "    accuracy                           0.84     15737\n",
            "   macro avg       0.59      0.73      0.61     15737\n",
            "weighted avg       0.93      0.84      0.87     15737\n",
            "\n",
            "Confusion Matrix:\n",
            " [[12672  2143]\n",
            " [  369   553]]\n",
            "ROC AUC Score: 0.8189537923617604\n",
            "F1 Score: 0.3056937534549475\n",
            "\n",
            "--- Logistic Regression ---\n",
            "Classification Report:\n",
            "               precision    recall  f1-score   support\n",
            "\n",
            "           0       0.97      0.32      0.48     14815\n",
            "           1       0.07      0.84      0.13       922\n",
            "\n",
            "    accuracy                           0.35     15737\n",
            "   macro avg       0.52      0.58      0.30     15737\n",
            "weighted avg       0.92      0.35      0.46     15737\n",
            "\n",
            "Confusion Matrix:\n",
            " [[ 4697 10118]\n",
            " [  145   777]]\n",
            "ROC AUC Score: 0.6558319051380621\n",
            "F1 Score: 0.1315054582381315\n",
            "\n",
            "--- MLP ---\n",
            "Classification Report:\n",
            "               precision    recall  f1-score   support\n",
            "\n",
            "           0       0.97      0.78      0.86     14815\n",
            "           1       0.15      0.61      0.24       922\n",
            "\n",
            "    accuracy                           0.77     15737\n",
            "   macro avg       0.56      0.70      0.55     15737\n",
            "weighted avg       0.92      0.77      0.83     15737\n",
            "\n",
            "Confusion Matrix:\n",
            " [[11542  3273]\n",
            " [  358   564]]\n",
            "ROC AUC Score: 0.7788048988867031\n",
            "F1 Score: 0.2370245849968481\n",
            "\n",
            "--- XGBoost ---\n"
          ]
        },
        {
          "name": "stderr",
          "output_type": "stream",
          "text": [
            "/usr/local/lib/python3.11/dist-packages/xgboost/core.py:158: UserWarning: [21:35:31] WARNING: /workspace/src/learner.cc:740: \n",
            "Parameters: { \"use_label_encoder\" } are not used.\n",
            "\n",
            "  warnings.warn(smsg, UserWarning)\n"
          ]
        },
        {
          "name": "stdout",
          "output_type": "stream",
          "text": [
            "Classification Report:\n",
            "               precision    recall  f1-score   support\n",
            "\n",
            "           0       0.97      0.71      0.82     14815\n",
            "           1       0.12      0.65      0.21       922\n",
            "\n",
            "    accuracy                           0.71     15737\n",
            "   macro avg       0.55      0.68      0.52     15737\n",
            "weighted avg       0.92      0.71      0.79     15737\n",
            "\n",
            "Confusion Matrix:\n",
            " [[10589  4226]\n",
            " [  321   601]]\n",
            "ROC AUC Score: 0.7539019197726406\n",
            "F1 Score: 0.20907983997216908\n"
          ]
        }
      ],
      "source": [
        "def build_pipeline(model):\n",
        "    return ImbPipeline(steps=[\n",
        "        (\"scaler\", StandardScaler()),\n",
        "        (\"smote\", SMOTE(random_state=42)),\n",
        "        (\"model\", model)\n",
        "    ])\n",
        "\n",
        "# Models\n",
        "models = {\n",
        "    \"Random Forest\": RandomForestClassifier(n_estimators=200, max_depth=15, class_weight='balanced', random_state=42),\n",
        "    \"Logistic Regression\": LogisticRegression(C=0.5, class_weight='balanced', solver='liblinear', max_iter=1000),\n",
        "    \"MLP\": MLPClassifier(hidden_layer_sizes=(128, 64, 32), alpha=0.0005, max_iter=300, early_stopping=True, random_state=42),\n",
        "    \"XGBoost\" : XGBClassifier(n_estimators=200, learning_rate=0.05, max_depth=5, use_label_encoder=False, eval_metric='logloss')\n",
        "}\n",
        "\n",
        "\n",
        "for name, clf in models.items():\n",
        "    print(f\"\\n--- {name} ---\")\n",
        "    pipeline = build_pipeline(clf)\n",
        "    pipeline.fit(X_train, y_train)\n",
        "    y_pred = pipeline.predict(X_test)\n",
        "    y_proba = pipeline.predict_proba(X_test)[:, 1]\n",
        "\n",
        "    print(\"Classification Report:\\n\", classification_report(y_test, y_pred))\n",
        "    print(\"Confusion Matrix:\\n\", confusion_matrix(y_test, y_pred))\n",
        "    print(\"ROC AUC Score:\", roc_auc_score(y_test, y_proba))\n",
        "    print(\"F1 Score:\", f1_score(y_test, y_pred))\n"
      ]
    },
    {
      "cell_type": "code",
      "execution_count": null,
      "metadata": {
        "colab": {
          "base_uri": "https://localhost:8080/"
        },
        "id": "poXkDluXsLrr",
        "outputId": "18c05075-0e43-45e8-a8f8-e4c7581d04a9"
      },
      "outputs": [
        {
          "name": "stderr",
          "output_type": "stream",
          "text": [
            "/usr/local/lib/python3.11/dist-packages/xgboost/core.py:158: UserWarning: [21:35:50] WARNING: /workspace/src/learner.cc:740: \n",
            "Parameters: { \"use_label_encoder\" } are not used.\n",
            "\n",
            "  warnings.warn(smsg, UserWarning)\n",
            "/usr/local/lib/python3.11/dist-packages/xgboost/core.py:158: UserWarning: [21:36:09] WARNING: /workspace/src/learner.cc:740: \n",
            "Parameters: { \"use_label_encoder\" } are not used.\n",
            "\n",
            "  warnings.warn(smsg, UserWarning)\n",
            "/usr/local/lib/python3.11/dist-packages/xgboost/core.py:158: UserWarning: [21:36:11] WARNING: /workspace/src/learner.cc:740: \n",
            "Parameters: { \"use_label_encoder\" } are not used.\n",
            "\n",
            "  warnings.warn(smsg, UserWarning)\n",
            "/usr/local/lib/python3.11/dist-packages/xgboost/core.py:158: UserWarning: [21:36:15] WARNING: /workspace/src/learner.cc:740: \n",
            "Parameters: { \"use_label_encoder\" } are not used.\n",
            "\n",
            "  warnings.warn(smsg, UserWarning)\n",
            "/usr/local/lib/python3.11/dist-packages/xgboost/core.py:158: UserWarning: [21:36:17] WARNING: /workspace/src/learner.cc:740: \n",
            "Parameters: { \"use_label_encoder\" } are not used.\n",
            "\n",
            "  warnings.warn(smsg, UserWarning)\n"
          ]
        },
        {
          "name": "stdout",
          "output_type": "stream",
          "text": [
            "XGBoost CV ROC AUC: 0.8489 ± 0.0020\n"
          ]
        }
      ],
      "source": [
        "# Example: Cross-validated ROC AUC\n",
        "cv = StratifiedKFold(n_splits=5, shuffle=True, random_state=42)\n"
      ]
    }
  ],
  "metadata": {
    "colab": {
      "provenance": []
    },
    "kernelspec": {
      "display_name": "Python 3",
      "name": "python3"
    },
    "language_info": {
      "name": "python"
    }
  },
  "nbformat": 4,
  "nbformat_minor": 0
}
